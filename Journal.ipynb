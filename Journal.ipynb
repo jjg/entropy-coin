{
 "cells": [
  {
   "cell_type": "markdown",
   "metadata": {},
   "source": [
    "Last night I had an idea about how to implement the redistribution algo.\n",
    "\n",
    "The gist is that you calculate the average balance of all accounts and then subtract some from the accounts that are above average and apply it to accounts that are below.\n",
    "\n",
    "This is a very simple, hard-coded test."
   ]
  },
  {
   "cell_type": "code",
   "execution_count": 7,
   "metadata": {},
   "outputs": [
    {
     "name": "stdout",
     "output_type": "stream",
     "text": [
      "10.0\t0.0\t10.0\t0.0\n",
      "9.0\t0.0\t9.0\t2.0\n",
      "9.0\t1.0\t9.0\t1.0\n",
      "8.0\t1.0\t8.0\t3.0\n",
      "8.0\t2.0\t8.0\t2.0\n",
      "7.0\t2.0\t7.0\t4.0\n",
      "7.0\t3.0\t7.0\t3.0\n",
      "6.0\t3.0\t6.0\t5.0\n",
      "6.0\t4.0\t6.0\t4.0\n",
      "5.0\t4.0\t5.0\t6.0\n",
      "6.0\t5.0\t6.0\t3.0\n",
      "5.0\t5.0\t5.0\t5.0\n",
      "6.0\t6.0\t6.0\t2.0\n",
      "6.0\t6.0\t6.0\t2.0\n",
      "6.0\t6.0\t6.0\t2.0\n",
      "6.0\t6.0\t6.0\t2.0\n",
      "6.0\t6.0\t6.0\t2.0\n",
      "6.0\t6.0\t6.0\t2.0\n",
      "6.0\t6.0\t6.0\t2.0\n",
      "6.0\t6.0\t6.0\t2.0\n",
      "6.0\t6.0\t6.0\t2.0\n"
     ]
    }
   ],
   "source": [
    "bank_balance = 0.0\n",
    "\n",
    "# Create three accounts initialized to different balances\n",
    "account_a = 10.0\n",
    "account_b = 0.0\n",
    "account_c = 10.0\n",
    "\n",
    "# Print opening balances\n",
    "print(f\"{account_a}\\t{account_b}\\t{account_c}\\t{bank_balance}\")\n",
    "\n",
    "# Process ten cycles\n",
    "for i in range(10):\n",
    "    # Calculate average balance\n",
    "    average_balance = (account_a + account_b + account_c) / 3\n",
    "\n",
    "    # For each account, if balance is above average, transfer one coin to bank\n",
    "    if account_a > average_balance:\n",
    "        account_a -= 1\n",
    "        bank_balance += 1\n",
    "    if account_b > average_balance:\n",
    "        account_b -= 1\n",
    "        bank_balance += 1\n",
    "    if account_c > average_balance:\n",
    "        account_c -= 1\n",
    "        bank_balance += 1\n",
    "\n",
    "    print(f\"{account_a}\\t{account_b}\\t{account_c}\\t{bank_balance}\")\n",
    "    \n",
    "    # For each account, if balance is below average, transfer one coin from bank\n",
    "    if account_a < average_balance:\n",
    "        account_a += 1\n",
    "        bank_balance -= 1\n",
    "    if account_b < average_balance:\n",
    "        account_b += 1\n",
    "        bank_balance -= 1\n",
    "    if account_c < average_balance:\n",
    "        account_c += 1\n",
    "        bank_balance -= 1\n",
    "\n",
    "    print(f\"{account_a}\\t{account_b}\\t{account_c}\\t{bank_balance}\")"
   ]
  },
  {
   "cell_type": "markdown",
   "metadata": {},
   "source": [
    "This basically works.  I might be improved by using a percentage when adjusting "
   ]
  }
 ],
 "metadata": {
  "kernelspec": {
   "display_name": "Python 3",
   "language": "python",
   "name": "python3"
  },
  "language_info": {
   "codemirror_mode": {
    "name": "ipython",
    "version": 3
   },
   "file_extension": ".py",
   "mimetype": "text/x-python",
   "name": "python",
   "nbconvert_exporter": "python",
   "pygments_lexer": "ipython3",
   "version": "3.9.1"
  }
 },
 "nbformat": 4,
 "nbformat_minor": 4
}
